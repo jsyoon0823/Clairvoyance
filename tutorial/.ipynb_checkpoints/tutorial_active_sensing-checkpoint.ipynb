{
 "cells": [
  {
   "cell_type": "markdown",
   "metadata": {},
   "source": [
    "<img src=\"figure/clairvoyance_logo.png\">\n",
    "\n",
    "# Clairvoyance: Active sensing on time-series prediction\n",
    "\n",
    "## ML-AIM (http://vanderschaar-lab.com/)\n",
    "\n",
    "This notebook describes the user-guide of an active sensing application using Clairvoyance framework. Active sensing problem is defined as following: recommend when and what measurements should we observe to maximize the prediction accuracy with respect to measurement cost constraints. For instance, active sensing model can recommend to doctors which vitals and lab tests should they observe and when for better understanding the patient states.\n",
    " \n",
    "<img src=\"figure/active-sensing-definition.png\">\n",
    "\n",
    "To run this tutorial, you need:\n",
    "### Temporal and static datasets for training and testing\n",
    "\n",
    "If users come with their own temporal and static datasets for training and testing, the users should save those files as 'data_name_temporal_train_data_eav.csv.gz', 'data_name_static_train_data.csv.gz', 'data_name_temporal_test_data_eav.csv.gz', 'data_name_static_test_data.csv.gz' in '../datasets/data/data_name/' directory.\n",
    "\n",
    "\n",
    "### Prerequisite\n",
    "Clone https://github.com/jsyoon0823/time-series-automl.git to the current directory."
   ]
  },
  {
   "cell_type": "markdown",
   "metadata": {},
   "source": [
    "## Active sensing pipeline summary\n",
    "\n",
    "<img src=\"figure/active-sensing-block-diagram.png\">\n",
    "\n",
    "### Step 1: Load dataset\n",
    "  - Extract csv files from the original raw datasets in ../datasets/data/data_name/ directory.  \n",
    "  \n",
    "### Step 2: Preprocess dataset\n",
    "  - Preprocessing the raw data using various filters such as (1) replacing negative values to NaN, (2) do one-hot encidng for certain features, (3) do normalization.  \n",
    "  \n",
    "### Step 3: Define problem\n",
    "  - Set the time-series prediction problem that we want to solve for active sensing. Set the problem (whether it is one-shot or online prediction), set the label, set the maximum sequence length, and set the treatment features. We also define the metric for evaluation and the task itself (whether classification or regression).\n",
    "\n",
    "### Step 4: Impute dataset\n",
    "  - Impute missing values in the preprocessed static and temporal datasets and return complete datasets.\n",
    "  \n",
    "### Step 5: Feature selection\n",
    "  - Select the relevant static and temporal features to the labels. You can skip the feature selection (set feature selection method = None).\n",
    "  \n",
    "### Step 6: Active sensing model fit and predict\n",
    "  - After finishing the data preparation, we define the active sensing models and train the model using the training dataset. After training, we use the trained model to recommend future measurements on the testing dataset.\n",
    "  \n",
    "### Step 7: Visualize results\n",
    "  - Visualize the recommendations of the future measurements."
   ]
  },
  {
   "cell_type": "markdown",
   "metadata": {},
   "source": [
    "## Step 0: Import necessary packages\n",
    "\n",
    "Import necessary packages for the entire tutorials."
   ]
  },
  {
   "cell_type": "code",
   "execution_count": 1,
   "metadata": {},
   "outputs": [],
   "source": [
    "# Necessary packages\n",
    "from __future__ import absolute_import\n",
    "from __future__ import division\n",
    "from __future__ import print_function\n",
    "\n",
    "import numpy as np\n",
    "import warnings\n",
    "warnings.filterwarnings('ignore')\n",
    "import sys\n",
    "sys.path.append('../')\n",
    "\n",
    "from utils import PipelineComposer"
   ]
  },
  {
   "cell_type": "markdown",
   "metadata": {},
   "source": [
    "## Step 1: Load dataset\n",
    "\n",
    "Extract temporal and static datasets from 'data_name_temporal_train_data_eav.csv.gz', 'data_name_static_train_data.csv.gz', 'data_name_temporal_test_data_eav.csv.gz', 'data_name_static_test_data.csv.gz' in '../datasets/data/data_name/' directory.\n",
    "\n",
    "- CSVLoader: Load csv files from the original raw datasets in ../datasets/data/data_name/ directory.\n",
    "- file_names: mimic in this tutorial."
   ]
  },
  {
   "cell_type": "code",
   "execution_count": 2,
   "metadata": {},
   "outputs": [
    {
     "name": "stdout",
     "output_type": "stream",
     "text": [
      "Finish data loading.\n"
     ]
    }
   ],
   "source": [
    "from datasets import CSVLoader\n",
    "\n",
    "# Define data name\n",
    "data_name = 'mimic'\n",
    "# Define data dictionary\n",
    "data_directory = '../datasets/data/'+data_name + '/' + data_name + '_'\n",
    "\n",
    "# Load train and test datasets\n",
    "data_loader_training = CSVLoader(static_file=data_directory + 'static_train_data.csv.gz',\n",
    "                                 temporal_file=data_directory + 'temporal_train_data_eav.csv.gz')\n",
    "\n",
    "data_loader_testing = CSVLoader(static_file=data_directory + 'static_test_data.csv.gz',\n",
    "                                temporal_file=data_directory + 'temporal_test_data_eav.csv.gz')\n",
    "\n",
    "dataset_training = data_loader_training.load()\n",
    "dataset_testing = data_loader_testing.load()\n",
    "\n",
    "print('Finish data loading.')"
   ]
  },
  {
   "cell_type": "markdown",
   "metadata": {},
   "source": [
    "## Step 2: Preprocess dataset\n",
    "\n",
    "Preprocess the raw data using multiple filters. In this tutorial, we replace all the negative values to NaN (using NegativeFilter), do one-hot encoding on 'admission_type' feature (using OneHotEncoder), and do MinMax Normalization (using Normalization). Preprocessing is done for both training and testing datasets. \n",
    "  - NegativeFilter: Replace negative values to NaN\n",
    "  - OneHotEncoder: One hot encoding certain features\n",
    "    - one_hot_encoding: input features that need to be one-hot encoded\n",
    "  - Normalization (3 options): MinMax, Standard, None"
   ]
  },
  {
   "cell_type": "code",
   "execution_count": 3,
   "metadata": {},
   "outputs": [
    {
     "name": "stdout",
     "output_type": "stream",
     "text": [
      "Finish preprocessing.\n"
     ]
    }
   ],
   "source": [
    "from preprocessing import FilterNegative, OneHotEncoder, Normalizer\n",
    "\n",
    "# (1) filter out negative values\n",
    "negative_filter = FilterNegative()\n",
    "# (2) one-hot encode categorical features\n",
    "one_hot_encoding = 'admission_type'\n",
    "onehot_encoder = OneHotEncoder(one_hot_encoding_features=[one_hot_encoding])\n",
    "# (3) Normalize features: 3 options (minmax, standard, none)\n",
    "normalization = 'minmax'\n",
    "normalizer = Normalizer(normalization)\n",
    "\n",
    "# Data preprocessing\n",
    "filter_pipeline = PipelineComposer(negative_filter, onehot_encoder, normalizer)\n",
    "\n",
    "dataset_training = filter_pipeline.fit_transform(dataset_training)\n",
    "dataset_testing = filter_pipeline.transform(dataset_testing)\n",
    "\n",
    "print('Finish preprocessing.')"
   ]
  },
  {
   "cell_type": "markdown",
   "metadata": {},
   "source": [
    "## Step 3: Define problem   \n",
    "\n",
    "Set the active sensing problem that we want to solve. Set the problem (whether it is one-shot or online prediction), set the label, set the maximum sequence length, and set the treatment features. We also define the metric for evaluation and the task itself (whether classification or regression). In this tutorial, we solve the active sensing problem on predicting whether the patients will die at the end of the hospital stay (one-shot setting).\n",
    "  - problem: 'one-shot'(one time prediction) or 'online'(rolling window prediction)\n",
    "    - 'one-shot': one time prediction at the end of the time-series \n",
    "    - 'online': preditcion at every time stamps of the time-series\n",
    "  - max_seq_len: maximum sequence length of time-series sequence\n",
    "  - label_name: the column name for the label(s)\n",
    "  - treatment: the column name for treatments\n",
    "  - window: x-hour ahead prediction (for online prediction).\n",
    "  \n",
    "  - other parameters:\n",
    "    - metric_name: auc, apr, mse, mae\n",
    "    - task: classification or regression"
   ]
  },
  {
   "cell_type": "code",
   "execution_count": 4,
   "metadata": {},
   "outputs": [
    {
     "name": "stderr",
     "output_type": "stream",
     "text": [
      "100%|██████████| 18490/18490 [00:47<00:00, 385.82it/s]\n",
      "100%|██████████| 18490/18490 [00:51<00:00, 360.88it/s]\n",
      "100%|██████████| 4610/4610 [00:07<00:00, 587.86it/s]\n",
      "100%|██████████| 4610/4610 [00:08<00:00, 541.07it/s]\n"
     ]
    },
    {
     "name": "stdout",
     "output_type": "stream",
     "text": [
      "Finish defining problem.\n"
     ]
    }
   ],
   "source": [
    "from preprocessing import ProblemMaker\n",
    "\n",
    "# Define parameters\n",
    "problem = 'one-shot'\n",
    "max_seq_len = 24\n",
    "label_name = 'death'\n",
    "treatment = None\n",
    "window = 0\n",
    "\n",
    "# Define problem \n",
    "problem_maker = ProblemMaker(problem=problem, label=[label_name],\n",
    "                             max_seq_len=max_seq_len, treatment=treatment, window = window)\n",
    "\n",
    "dataset_training = problem_maker.fit_transform(dataset_training)\n",
    "dataset_testing = problem_maker.fit_transform(dataset_testing)\n",
    "\n",
    "# Set other parameters\n",
    "metric_name = 'auc'\n",
    "task = 'classification'\n",
    "\n",
    "metric_sets = [metric_name]\n",
    "metric_parameters =  {'problem': problem, 'label_name': [label_name]}\n",
    "\n",
    "print('Finish defining problem.')"
   ]
  },
  {
   "cell_type": "markdown",
   "metadata": {},
   "source": [
    "## Step 4: Impute dataset\n",
    "\n",
    "Impute missing values in the preprocessed static and temporal datasets and return complete datasets.\n",
    "  - Static imputation (6 options): mean, median, mice, missforest, knn, gain\n",
    "  - Temporal imputation (8 options): mean, median, linear, quadratic, cubic, spline, mrnn, tgain"
   ]
  },
  {
   "cell_type": "code",
   "execution_count": 5,
   "metadata": {},
   "outputs": [
    {
     "name": "stderr",
     "output_type": "stream",
     "text": [
      "Using TensorFlow backend.\n"
     ]
    },
    {
     "name": "stdout",
     "output_type": "stream",
     "text": [
      "Finish imputation.\n"
     ]
    }
   ],
   "source": [
    "from imputation import Imputation\n",
    "\n",
    "# Set imputation models\n",
    "static_imputation_model = 'median'\n",
    "temporal_imputation_model = 'median'\n",
    "\n",
    "# Impute the missing data\n",
    "static_imputation = Imputation(imputation_model_name = static_imputation_model, data_type = 'static')\n",
    "temporal_imputation = Imputation(imputation_model_name = temporal_imputation_model, data_type = 'temporal')\n",
    "\n",
    "imputation_pipeline = PipelineComposer(static_imputation, temporal_imputation)\n",
    "\n",
    "dataset_training = imputation_pipeline.fit_transform(dataset_training)\n",
    "dataset_testing = imputation_pipeline.transform(dataset_testing)\n",
    "\n",
    "print('Finish imputation.')"
   ]
  },
  {
   "cell_type": "markdown",
   "metadata": {},
   "source": [
    "## Step 5: Feature selection\n",
    "\n",
    "Select the relevant static and temporal features to the labels. If you do not want, we can skip the feature selection (set feature selection method = None).\n",
    "  - feature selection method: \n",
    "      - feature_selection_model: greedy-addtion, greedy-deletion, recursive-addition, recursive-deletion, None\n",
    "      - feature_number: selected featuer number"
   ]
  },
  {
   "cell_type": "code",
   "execution_count": 6,
   "metadata": {},
   "outputs": [
    {
     "name": "stdout",
     "output_type": "stream",
     "text": [
      "Finish feature selection.\n"
     ]
    }
   ],
   "source": [
    "from feature_selection import FeatureSelection\n",
    "\n",
    "# Set feature selection parameters\n",
    "static_feature_selection_model = None\n",
    "temporal_feature_selection_model = None\n",
    "static_feature_selection_number = None\n",
    "temporal_feature_selection_number = None\n",
    "\n",
    "# Select relevant features\n",
    "static_feature_selection = \\\n",
    "FeatureSelection(feature_selection_model_name = static_feature_selection_model,\n",
    "                 feature_type = 'static', feature_number = static_feature_selection_number,\n",
    "                 task = task, metric_name = metric_name,\n",
    "                 metric_parameters = metric_parameters)\n",
    "\n",
    "temporal_feature_selection = \\\n",
    "FeatureSelection(feature_selection_model_name = temporal_feature_selection_model,\n",
    "                 feature_type = 'temporal', feature_number = temporal_feature_selection_number,\n",
    "                 task = task, metric_name = metric_name,\n",
    "                 metric_parameters = metric_parameters)\n",
    "\n",
    "feature_selection_pipeline = PipelineComposer(static_feature_selection, temporal_feature_selection)\n",
    "\n",
    "dataset_training = feature_selection_pipeline.fit_transform(dataset_training)\n",
    "dataset_testing = feature_selection_pipeline.transform(dataset_testing)\n",
    "\n",
    "print('Finish feature selection.')"
   ]
  },
  {
   "cell_type": "markdown",
   "metadata": {},
   "source": [
    "## Step 6: Active sensing model fit and predict\n",
    "\n",
    "After finishing the data preparation, we define the active sensing models (2 options, ASAC and DeepSensing), and train the active sensing model using the training dataset. We set validation set as the 20% of the training set for early stopping and best model saving. After training, we use the trained model to recommend the future measurements on the testing dataset.\n",
    "\n",
    "- predictor_parameters:\n",
    "  - active_sensing_model_name: asac, deepsensing\n",
    "  - model_parameters: network parameters such as numer of layers\n",
    "    - model_name: rnn, gru, lstm\n",
    "    - h_dim: hidden dimensions\n",
    "    - n_layer: layer number\n",
    "    - n_head: head number (only for transformer model)\n",
    "    - batch_size: number of samples in mini-batch\n",
    "    - epochs: number of epochs\n",
    "    - learning_rate: learning rate\n",
    "  - static_mode: how to utilize static features (concatenate or None)\n",
    "  - time_mode: how to utilize time information (concatenate or None)"
   ]
  },
  {
   "cell_type": "code",
   "execution_count": 7,
   "metadata": {},
   "outputs": [
    {
     "name": "stdout",
     "output_type": "stream",
     "text": [
      "Train on 14792 samples, validate on 3698 samples\n",
      "Epoch 1/20\n",
      "14792/14792 [==============================] - 12s 827us/sample - loss: 0.3319 - select_loss: 0.1275 - predict_loss: 0.3308 - val_loss: 0.3293 - val_select_loss: 0.1070 - val_predict_loss: 0.3283\n",
      "Epoch 2/20\n",
      "14792/14792 [==============================] - 10s 682us/sample - loss: 0.3067 - select_loss: 0.1069 - predict_loss: 0.3055 - val_loss: 0.3173 - val_select_loss: 0.1061 - val_predict_loss: 0.3163\n",
      "Epoch 3/20\n",
      "14792/14792 [==============================] - 10s 675us/sample - loss: 0.3005 - select_loss: 0.1049 - predict_loss: 0.2994 - val_loss: 0.3135 - val_select_loss: 0.1041 - val_predict_loss: 0.3124\n",
      "Epoch 4/20\n",
      "14792/14792 [==============================] - 10s 676us/sample - loss: 0.2909 - select_loss: 0.1032 - predict_loss: 0.2898 - val_loss: 0.3038 - val_select_loss: 0.1016 - val_predict_loss: 0.3026\n",
      "Epoch 5/20\n",
      "14792/14792 [==============================] - 10s 704us/sample - loss: 0.2827 - select_loss: 0.1022 - predict_loss: 0.2824 - val_loss: 0.2952 - val_select_loss: 0.1016 - val_predict_loss: 0.2943\n",
      "Epoch 6/20\n",
      "14792/14792 [==============================] - 10s 685us/sample - loss: 0.2850 - select_loss: 0.0993 - predict_loss: 0.2842 - val_loss: 0.3004 - val_select_loss: 0.0977 - val_predict_loss: 0.2992\n",
      "Epoch 7/20\n",
      "14792/14792 [==============================] - 10s 670us/sample - loss: 0.2786 - select_loss: 0.0985 - predict_loss: 0.2772 - val_loss: 0.2934 - val_select_loss: 0.0986 - val_predict_loss: 0.2927\n",
      "Epoch 8/20\n",
      "14792/14792 [==============================] - 10s 686us/sample - loss: 0.2740 - select_loss: 0.0993 - predict_loss: 0.2728 - val_loss: 0.2986 - val_select_loss: 0.1027 - val_predict_loss: 0.2976\n",
      "Epoch 9/20\n",
      "14792/14792 [==============================] - 10s 681us/sample - loss: 0.2727 - select_loss: 0.0994 - predict_loss: 0.2719 - val_loss: 0.2875 - val_select_loss: 0.0983 - val_predict_loss: 0.2865\n",
      "Epoch 10/20\n",
      "14792/14792 [==============================] - 10s 682us/sample - loss: 0.2698 - select_loss: 0.0987 - predict_loss: 0.2683 - val_loss: 0.2808 - val_select_loss: 0.0990 - val_predict_loss: 0.2795\n",
      "Epoch 11/20\n",
      "14792/14792 [==============================] - 10s 678us/sample - loss: 0.2662 - select_loss: 0.0992 - predict_loss: 0.2648 - val_loss: 0.2857 - val_select_loss: 0.0996 - val_predict_loss: 0.2844\n",
      "Epoch 12/20\n",
      "14792/14792 [==============================] - 10s 685us/sample - loss: 0.2645 - select_loss: 0.0945 - predict_loss: 0.2631 - val_loss: 0.2843 - val_select_loss: 0.0949 - val_predict_loss: 0.2836\n",
      "Epoch 13/20\n",
      "14792/14792 [==============================] - 10s 689us/sample - loss: 0.2614 - select_loss: 0.0934 - predict_loss: 0.2605 - val_loss: 0.2763 - val_select_loss: 0.0889 - val_predict_loss: 0.2752\n",
      "Epoch 14/20\n",
      "14792/14792 [==============================] - 10s 688us/sample - loss: 0.2591 - select_loss: 0.0897 - predict_loss: 0.2581 - val_loss: 0.2735 - val_select_loss: 0.0849 - val_predict_loss: 0.2727\n",
      "Epoch 15/20\n",
      "14792/14792 [==============================] - 10s 686us/sample - loss: 0.2559 - select_loss: 0.0879 - predict_loss: 0.2546 - val_loss: 0.2857 - val_select_loss: 0.0804 - val_predict_loss: 0.2847\n",
      "Epoch 16/20\n",
      "14792/14792 [==============================] - 10s 688us/sample - loss: 0.2528 - select_loss: 0.0855 - predict_loss: 0.2523 - val_loss: 0.2789 - val_select_loss: 0.0818 - val_predict_loss: 0.2782\n",
      "Epoch 17/20\n",
      "14792/14792 [==============================] - 10s 691us/sample - loss: 0.2537 - select_loss: 0.0855 - predict_loss: 0.2531 - val_loss: 0.2657 - val_select_loss: 0.0847 - val_predict_loss: 0.2651\n",
      "Epoch 18/20\n",
      "14792/14792 [==============================] - 10s 684us/sample - loss: 0.2517 - select_loss: 0.0835 - predict_loss: 0.2514 - val_loss: 0.2783 - val_select_loss: 0.0906 - val_predict_loss: 0.2775\n",
      "Epoch 19/20\n",
      "14792/14792 [==============================] - 10s 685us/sample - loss: 0.2541 - select_loss: 0.0830 - predict_loss: 0.2531 - val_loss: 0.2979 - val_select_loss: 0.0745 - val_predict_loss: 0.2969\n",
      "Epoch 20/20\n",
      "14792/14792 [==============================] - 10s 687us/sample - loss: 0.2489 - select_loss: 0.0807 - predict_loss: 0.2480 - val_loss: 0.2728 - val_select_loss: 0.0789 - val_predict_loss: 0.2721\n",
      "Finish active sensing model training and testing.\n"
     ]
    }
   ],
   "source": [
    "from active_sensing import active_sensing\n",
    "\n",
    "# Set active sensing model\n",
    "active_sensing_model_name = 'asac'\n",
    "\n",
    "# Set active sensing model parameters\n",
    "model_parameters = {'h_dim': 100,\n",
    "                    'n_layer': 2,\n",
    "                    'batch_size': 128,\n",
    "                    'epoch': 20,\n",
    "                    'model_type': 'gru',\n",
    "                    'learning_rate': 0.001,\n",
    "                    'static_mode': 'Concatenate',\n",
    "                    'time_mode': 'Concatenate',\n",
    "                    'verbose': True}\n",
    "\n",
    "# Set up validation for early stopping and best model saving\n",
    "dataset_training.train_val_test_split(prob_val=0.2, prob_test = 0.0)\n",
    "\n",
    "\n",
    "# Train the original predictive model\n",
    "active_sensing_class = active_sensing(active_sensing_model_name, model_parameters, task)\n",
    "active_sensing_class.fit(dataset_training)\n",
    "# Return the observation recommendations on the testing set\n",
    "test_s_hat = active_sensing_class.predict(dataset_testing)\n",
    "\n",
    "print('Finish active sensing model training and testing.')"
   ]
  },
  {
   "cell_type": "markdown",
   "metadata": {},
   "source": [
    "## Step 7: Visualize results\n",
    "\n",
    "  - Recommend future measurements on the testing dataset."
   ]
  },
  {
   "cell_type": "code",
   "execution_count": 9,
   "metadata": {},
   "outputs": [
    {
     "name": "stdout",
     "output_type": "stream",
     "text": [
      "Recommended Future Measurements\n"
     ]
    },
    {
     "data": {
      "image/png": "[encoded data removed]",
      "text/plain": [
       "<Figure size 1152x1152 with 2 Axes>"
      ]
     },
     "metadata": {
      "needs_background": "light"
     },
     "output_type": "display_data"
    }
   ],
   "source": [
    "from evaluation import Metrics\n",
    "from evaluation import print_interpretation\n",
    "\n",
    "# Set the patient index for visualization\n",
    "index = [1]\n",
    "\n",
    "# Visualize the output\n",
    "print('Recommended Future Measurements')\n",
    "print_interpretation (test_s_hat[index], dataset_testing.feature_name, \n",
    "                      metric_parameters, model_parameters)"
   ]
  },
  {
   "cell_type": "code",
   "execution_count": null,
   "metadata": {},
   "outputs": [],
   "source": []
  }
 ],
 "metadata": {
  "kernelspec": {
   "display_name": "Python 3",
   "language": "python",
   "name": "python3"
  },
  "language_info": {
   "codemirror_mode": {
    "name": "ipython",
    "version": 3
   },
   "file_extension": ".py",
   "mimetype": "text/x-python",
   "name": "python",
   "nbconvert_exporter": "python",
   "pygments_lexer": "ipython3",
   "version": "3.7.4"
  }
 },
 "nbformat": 4,
 "nbformat_minor": 2
}
